{
 "cells": [
  {
   "cell_type": "code",
   "execution_count": 1,
   "metadata": {},
   "outputs": [],
   "source": [
    "import pandas as pd    #importing necessary libraries\n",
    "import numpy as np"
   ]
  },
  {
   "cell_type": "code",
   "execution_count": 2,
   "metadata": {},
   "outputs": [
    {
     "name": "stdout",
     "output_type": "stream",
     "text": [
      "(22805, 8)\n"
     ]
    },
    {
     "data": {
      "text/html": [
       "<div>\n",
       "<style scoped>\n",
       "    .dataframe tbody tr th:only-of-type {\n",
       "        vertical-align: middle;\n",
       "    }\n",
       "\n",
       "    .dataframe tbody tr th {\n",
       "        vertical-align: top;\n",
       "    }\n",
       "\n",
       "    .dataframe thead th {\n",
       "        text-align: right;\n",
       "    }\n",
       "</style>\n",
       "<table border=\"1\" class=\"dataframe\">\n",
       "  <thead>\n",
       "    <tr style=\"text-align: right;\">\n",
       "      <th></th>\n",
       "      <th>Type</th>\n",
       "      <th>Date</th>\n",
       "      <th>Time</th>\n",
       "      <th>open</th>\n",
       "      <th>high</th>\n",
       "      <th>low</th>\n",
       "      <th>close</th>\n",
       "      <th>Unnamed: 7</th>\n",
       "    </tr>\n",
       "  </thead>\n",
       "  <tbody>\n",
       "    <tr>\n",
       "      <th>0</th>\n",
       "      <td>NIFTY</td>\n",
       "      <td>20210101</td>\n",
       "      <td>09:16</td>\n",
       "      <td>13997.90</td>\n",
       "      <td>14020.85</td>\n",
       "      <td>13991.35</td>\n",
       "      <td>14013.15</td>\n",
       "      <td>NaN</td>\n",
       "    </tr>\n",
       "    <tr>\n",
       "      <th>1</th>\n",
       "      <td>NIFTY</td>\n",
       "      <td>20210101</td>\n",
       "      <td>09:17</td>\n",
       "      <td>14014.85</td>\n",
       "      <td>14018.55</td>\n",
       "      <td>14008.15</td>\n",
       "      <td>14009.05</td>\n",
       "      <td>NaN</td>\n",
       "    </tr>\n",
       "    <tr>\n",
       "      <th>2</th>\n",
       "      <td>NIFTY</td>\n",
       "      <td>20210101</td>\n",
       "      <td>09:18</td>\n",
       "      <td>14008.05</td>\n",
       "      <td>14013.10</td>\n",
       "      <td>14005.05</td>\n",
       "      <td>14012.70</td>\n",
       "      <td>NaN</td>\n",
       "    </tr>\n",
       "    <tr>\n",
       "      <th>3</th>\n",
       "      <td>NIFTY</td>\n",
       "      <td>20210101</td>\n",
       "      <td>09:19</td>\n",
       "      <td>14013.65</td>\n",
       "      <td>14019.10</td>\n",
       "      <td>14013.65</td>\n",
       "      <td>14016.20</td>\n",
       "      <td>NaN</td>\n",
       "    </tr>\n",
       "    <tr>\n",
       "      <th>4</th>\n",
       "      <td>NIFTY</td>\n",
       "      <td>20210101</td>\n",
       "      <td>09:20</td>\n",
       "      <td>14015.45</td>\n",
       "      <td>14017.80</td>\n",
       "      <td>14011.95</td>\n",
       "      <td>14015.45</td>\n",
       "      <td>NaN</td>\n",
       "    </tr>\n",
       "  </tbody>\n",
       "</table>\n",
       "</div>"
      ],
      "text/plain": [
       "    Type      Date   Time      open      high       low     close  Unnamed: 7\n",
       "0  NIFTY  20210101  09:16  13997.90  14020.85  13991.35  14013.15         NaN\n",
       "1  NIFTY  20210101  09:17  14014.85  14018.55  14008.15  14009.05         NaN\n",
       "2  NIFTY  20210101  09:18  14008.05  14013.10  14005.05  14012.70         NaN\n",
       "3  NIFTY  20210101  09:19  14013.65  14019.10  14013.65  14016.20         NaN\n",
       "4  NIFTY  20210101  09:20  14015.45  14017.80  14011.95  14015.45         NaN"
      ]
     },
     "execution_count": 2,
     "metadata": {},
     "output_type": "execute_result"
    }
   ],
   "source": [
    "data = pd.read_csv('DataFrame.csv')      #Reading csv file and creating DataFrame\n",
    "print(data.shape)\n",
    "data.head()"
   ]
  },
  {
   "cell_type": "code",
   "execution_count": 3,
   "metadata": {},
   "outputs": [],
   "source": [
    "data.drop('Unnamed: 7' , axis = 1 , inplace = True)   #Dropping unnecessary Column:-> Unnamed: 7"
   ]
  },
  {
   "cell_type": "code",
   "execution_count": 4,
   "metadata": {},
   "outputs": [],
   "source": [
    "data.rename(columns = str.upper , inplace = True)"
   ]
  },
  {
   "cell_type": "code",
   "execution_count": 5,
   "metadata": {},
   "outputs": [
    {
     "data": {
      "text/html": [
       "<div>\n",
       "<style scoped>\n",
       "    .dataframe tbody tr th:only-of-type {\n",
       "        vertical-align: middle;\n",
       "    }\n",
       "\n",
       "    .dataframe tbody tr th {\n",
       "        vertical-align: top;\n",
       "    }\n",
       "\n",
       "    .dataframe thead th {\n",
       "        text-align: right;\n",
       "    }\n",
       "</style>\n",
       "<table border=\"1\" class=\"dataframe\">\n",
       "  <thead>\n",
       "    <tr style=\"text-align: right;\">\n",
       "      <th></th>\n",
       "      <th>TYPE</th>\n",
       "      <th>DATE</th>\n",
       "      <th>TIME</th>\n",
       "      <th>OPEN</th>\n",
       "      <th>HIGH</th>\n",
       "      <th>LOW</th>\n",
       "      <th>CLOSE</th>\n",
       "    </tr>\n",
       "  </thead>\n",
       "  <tbody>\n",
       "    <tr>\n",
       "      <th>0</th>\n",
       "      <td>NIFTY</td>\n",
       "      <td>20210101</td>\n",
       "      <td>09:16</td>\n",
       "      <td>13997.90</td>\n",
       "      <td>14020.85</td>\n",
       "      <td>13991.35</td>\n",
       "      <td>14013.15</td>\n",
       "    </tr>\n",
       "    <tr>\n",
       "      <th>1</th>\n",
       "      <td>NIFTY</td>\n",
       "      <td>20210101</td>\n",
       "      <td>09:17</td>\n",
       "      <td>14014.85</td>\n",
       "      <td>14018.55</td>\n",
       "      <td>14008.15</td>\n",
       "      <td>14009.05</td>\n",
       "    </tr>\n",
       "    <tr>\n",
       "      <th>2</th>\n",
       "      <td>NIFTY</td>\n",
       "      <td>20210101</td>\n",
       "      <td>09:18</td>\n",
       "      <td>14008.05</td>\n",
       "      <td>14013.10</td>\n",
       "      <td>14005.05</td>\n",
       "      <td>14012.70</td>\n",
       "    </tr>\n",
       "    <tr>\n",
       "      <th>3</th>\n",
       "      <td>NIFTY</td>\n",
       "      <td>20210101</td>\n",
       "      <td>09:19</td>\n",
       "      <td>14013.65</td>\n",
       "      <td>14019.10</td>\n",
       "      <td>14013.65</td>\n",
       "      <td>14016.20</td>\n",
       "    </tr>\n",
       "    <tr>\n",
       "      <th>4</th>\n",
       "      <td>NIFTY</td>\n",
       "      <td>20210101</td>\n",
       "      <td>09:20</td>\n",
       "      <td>14015.45</td>\n",
       "      <td>14017.80</td>\n",
       "      <td>14011.95</td>\n",
       "      <td>14015.45</td>\n",
       "    </tr>\n",
       "    <tr>\n",
       "      <th>...</th>\n",
       "      <td>...</td>\n",
       "      <td>...</td>\n",
       "      <td>...</td>\n",
       "      <td>...</td>\n",
       "      <td>...</td>\n",
       "      <td>...</td>\n",
       "      <td>...</td>\n",
       "    </tr>\n",
       "    <tr>\n",
       "      <th>22800</th>\n",
       "      <td>NIFTY</td>\n",
       "      <td>20210331</td>\n",
       "      <td>15:27</td>\n",
       "      <td>14687.35</td>\n",
       "      <td>14694.35</td>\n",
       "      <td>14686.30</td>\n",
       "      <td>14690.60</td>\n",
       "    </tr>\n",
       "    <tr>\n",
       "      <th>22801</th>\n",
       "      <td>NIFTY</td>\n",
       "      <td>20210331</td>\n",
       "      <td>15:28</td>\n",
       "      <td>14690.90</td>\n",
       "      <td>14690.90</td>\n",
       "      <td>14686.05</td>\n",
       "      <td>14689.30</td>\n",
       "    </tr>\n",
       "    <tr>\n",
       "      <th>22802</th>\n",
       "      <td>NIFTY</td>\n",
       "      <td>20210331</td>\n",
       "      <td>15:29</td>\n",
       "      <td>14690.30</td>\n",
       "      <td>14694.10</td>\n",
       "      <td>14688.55</td>\n",
       "      <td>14691.30</td>\n",
       "    </tr>\n",
       "    <tr>\n",
       "      <th>22803</th>\n",
       "      <td>NIFTY</td>\n",
       "      <td>20210331</td>\n",
       "      <td>15:30</td>\n",
       "      <td>14689.85</td>\n",
       "      <td>14693.55</td>\n",
       "      <td>14689.45</td>\n",
       "      <td>14693.05</td>\n",
       "    </tr>\n",
       "    <tr>\n",
       "      <th>22804</th>\n",
       "      <td>NIFTY</td>\n",
       "      <td>20210331</td>\n",
       "      <td>15:31</td>\n",
       "      <td>14690.70</td>\n",
       "      <td>14690.70</td>\n",
       "      <td>14690.70</td>\n",
       "      <td>14690.70</td>\n",
       "    </tr>\n",
       "  </tbody>\n",
       "</table>\n",
       "<p>22805 rows × 7 columns</p>\n",
       "</div>"
      ],
      "text/plain": [
       "        TYPE      DATE   TIME      OPEN      HIGH       LOW     CLOSE\n",
       "0      NIFTY  20210101  09:16  13997.90  14020.85  13991.35  14013.15\n",
       "1      NIFTY  20210101  09:17  14014.85  14018.55  14008.15  14009.05\n",
       "2      NIFTY  20210101  09:18  14008.05  14013.10  14005.05  14012.70\n",
       "3      NIFTY  20210101  09:19  14013.65  14019.10  14013.65  14016.20\n",
       "4      NIFTY  20210101  09:20  14015.45  14017.80  14011.95  14015.45\n",
       "...      ...       ...    ...       ...       ...       ...       ...\n",
       "22800  NIFTY  20210331  15:27  14687.35  14694.35  14686.30  14690.60\n",
       "22801  NIFTY  20210331  15:28  14690.90  14690.90  14686.05  14689.30\n",
       "22802  NIFTY  20210331  15:29  14690.30  14694.10  14688.55  14691.30\n",
       "22803  NIFTY  20210331  15:30  14689.85  14693.55  14689.45  14693.05\n",
       "22804  NIFTY  20210331  15:31  14690.70  14690.70  14690.70  14690.70\n",
       "\n",
       "[22805 rows x 7 columns]"
      ]
     },
     "execution_count": 5,
     "metadata": {},
     "output_type": "execute_result"
    }
   ],
   "source": [
    "data"
   ]
  },
  {
   "cell_type": "markdown",
   "metadata": {},
   "source": [
    "### CONVERTING STRING INTO DATE TIME SERIES"
   ]
  },
  {
   "cell_type": "code",
   "execution_count": 6,
   "metadata": {},
   "outputs": [],
   "source": [
    "import datetime\n",
    "data['DATE'] = pd.to_datetime(data['DATE'] , format = \"%Y%m%d\")"
   ]
  },
  {
   "cell_type": "code",
   "execution_count": 7,
   "metadata": {},
   "outputs": [
    {
     "data": {
      "text/html": [
       "<div>\n",
       "<style scoped>\n",
       "    .dataframe tbody tr th:only-of-type {\n",
       "        vertical-align: middle;\n",
       "    }\n",
       "\n",
       "    .dataframe tbody tr th {\n",
       "        vertical-align: top;\n",
       "    }\n",
       "\n",
       "    .dataframe thead th {\n",
       "        text-align: right;\n",
       "    }\n",
       "</style>\n",
       "<table border=\"1\" class=\"dataframe\">\n",
       "  <thead>\n",
       "    <tr style=\"text-align: right;\">\n",
       "      <th></th>\n",
       "      <th>TYPE</th>\n",
       "      <th>DATE</th>\n",
       "      <th>TIME</th>\n",
       "      <th>OPEN</th>\n",
       "      <th>HIGH</th>\n",
       "      <th>LOW</th>\n",
       "      <th>CLOSE</th>\n",
       "    </tr>\n",
       "  </thead>\n",
       "  <tbody>\n",
       "    <tr>\n",
       "      <th>0</th>\n",
       "      <td>NIFTY</td>\n",
       "      <td>2021-01-01</td>\n",
       "      <td>09:16</td>\n",
       "      <td>13997.90</td>\n",
       "      <td>14020.85</td>\n",
       "      <td>13991.35</td>\n",
       "      <td>14013.15</td>\n",
       "    </tr>\n",
       "    <tr>\n",
       "      <th>1</th>\n",
       "      <td>NIFTY</td>\n",
       "      <td>2021-01-01</td>\n",
       "      <td>09:17</td>\n",
       "      <td>14014.85</td>\n",
       "      <td>14018.55</td>\n",
       "      <td>14008.15</td>\n",
       "      <td>14009.05</td>\n",
       "    </tr>\n",
       "    <tr>\n",
       "      <th>2</th>\n",
       "      <td>NIFTY</td>\n",
       "      <td>2021-01-01</td>\n",
       "      <td>09:18</td>\n",
       "      <td>14008.05</td>\n",
       "      <td>14013.10</td>\n",
       "      <td>14005.05</td>\n",
       "      <td>14012.70</td>\n",
       "    </tr>\n",
       "    <tr>\n",
       "      <th>3</th>\n",
       "      <td>NIFTY</td>\n",
       "      <td>2021-01-01</td>\n",
       "      <td>09:19</td>\n",
       "      <td>14013.65</td>\n",
       "      <td>14019.10</td>\n",
       "      <td>14013.65</td>\n",
       "      <td>14016.20</td>\n",
       "    </tr>\n",
       "    <tr>\n",
       "      <th>4</th>\n",
       "      <td>NIFTY</td>\n",
       "      <td>2021-01-01</td>\n",
       "      <td>09:20</td>\n",
       "      <td>14015.45</td>\n",
       "      <td>14017.80</td>\n",
       "      <td>14011.95</td>\n",
       "      <td>14015.45</td>\n",
       "    </tr>\n",
       "  </tbody>\n",
       "</table>\n",
       "</div>"
      ],
      "text/plain": [
       "    TYPE       DATE   TIME      OPEN      HIGH       LOW     CLOSE\n",
       "0  NIFTY 2021-01-01  09:16  13997.90  14020.85  13991.35  14013.15\n",
       "1  NIFTY 2021-01-01  09:17  14014.85  14018.55  14008.15  14009.05\n",
       "2  NIFTY 2021-01-01  09:18  14008.05  14013.10  14005.05  14012.70\n",
       "3  NIFTY 2021-01-01  09:19  14013.65  14019.10  14013.65  14016.20\n",
       "4  NIFTY 2021-01-01  09:20  14015.45  14017.80  14011.95  14015.45"
      ]
     },
     "execution_count": 7,
     "metadata": {},
     "output_type": "execute_result"
    }
   ],
   "source": [
    "data.head()"
   ]
  },
  {
   "cell_type": "code",
   "execution_count": 8,
   "metadata": {},
   "outputs": [],
   "source": [
    "#Creating columns like Weekday/Weekname\n",
    "data[\"WEEKDAY\"]=pd.to_datetime(data[\"DATE\"].astype(\"str\")).dt.weekday\n",
    "data[\"DAYNAME\"]=pd.to_datetime(data[\"DATE\"].astype(\"str\")).dt.day_name()\n",
    "year=[]\n",
    "month=[]\n",
    "date = []\n",
    "for i in data['DATE'].astype(\"str\"):\n",
    "    k=i.strip()\n",
    "    year.append(k.split(\"-\")[0])\n",
    "    month.append(k.split(\"-\")[1])\n",
    "    date.append(k.split(\"-\")[2])\n",
    "\n",
    "data[\"YEAR\"] = year\n",
    "data[\"MONTH\"] = month\n",
    "data[\"DATES\"] = date"
   ]
  },
  {
   "cell_type": "code",
   "execution_count": 9,
   "metadata": {},
   "outputs": [],
   "source": [
    "time_hr = []\n",
    "time_min = []\n",
    "\n",
    "for i in data['TIME']:\n",
    "    k = i.strip()\n",
    "    time_hr.append(k.split(\":\")[0])\n",
    "    time_min.append(k.split(\":\")[1])\n",
    "data[\"HOUR\"] = time_hr\n",
    "data[\"MIN\"] = time_min"
   ]
  },
  {
   "cell_type": "code",
   "execution_count": 10,
   "metadata": {},
   "outputs": [
    {
     "name": "stdout",
     "output_type": "stream",
     "text": [
      "<class 'pandas.core.frame.DataFrame'>\n",
      "RangeIndex: 22805 entries, 0 to 22804\n",
      "Data columns (total 14 columns):\n",
      " #   Column   Non-Null Count  Dtype         \n",
      "---  ------   --------------  -----         \n",
      " 0   TYPE     22805 non-null  object        \n",
      " 1   DATE     22805 non-null  datetime64[ns]\n",
      " 2   TIME     22805 non-null  object        \n",
      " 3   OPEN     22805 non-null  float64       \n",
      " 4   HIGH     22805 non-null  float64       \n",
      " 5   LOW      22805 non-null  float64       \n",
      " 6   CLOSE    22805 non-null  float64       \n",
      " 7   WEEKDAY  22805 non-null  int64         \n",
      " 8   DAYNAME  22805 non-null  object        \n",
      " 9   YEAR     22805 non-null  object        \n",
      " 10  MONTH    22805 non-null  object        \n",
      " 11  DATES    22805 non-null  object        \n",
      " 12  HOUR     22805 non-null  object        \n",
      " 13  MIN      22805 non-null  object        \n",
      "dtypes: datetime64[ns](1), float64(4), int64(1), object(8)\n",
      "memory usage: 2.4+ MB\n"
     ]
    }
   ],
   "source": [
    "data.info()"
   ]
  },
  {
   "cell_type": "code",
   "execution_count": 11,
   "metadata": {},
   "outputs": [
    {
     "data": {
      "text/plain": [
       "TYPE       0\n",
       "DATE       0\n",
       "TIME       0\n",
       "OPEN       0\n",
       "HIGH       0\n",
       "LOW        0\n",
       "CLOSE      0\n",
       "WEEKDAY    0\n",
       "DAYNAME    0\n",
       "YEAR       0\n",
       "MONTH      0\n",
       "DATES      0\n",
       "HOUR       0\n",
       "MIN        0\n",
       "dtype: int64"
      ]
     },
     "execution_count": 11,
     "metadata": {},
     "output_type": "execute_result"
    }
   ],
   "source": [
    "data.isnull().sum()"
   ]
  },
  {
   "cell_type": "code",
   "execution_count": 12,
   "metadata": {},
   "outputs": [
    {
     "data": {
      "text/html": [
       "<div>\n",
       "<style scoped>\n",
       "    .dataframe tbody tr th:only-of-type {\n",
       "        vertical-align: middle;\n",
       "    }\n",
       "\n",
       "    .dataframe tbody tr th {\n",
       "        vertical-align: top;\n",
       "    }\n",
       "\n",
       "    .dataframe thead th {\n",
       "        text-align: right;\n",
       "    }\n",
       "</style>\n",
       "<table border=\"1\" class=\"dataframe\">\n",
       "  <thead>\n",
       "    <tr style=\"text-align: right;\">\n",
       "      <th></th>\n",
       "      <th>TYPE</th>\n",
       "      <th>DATE</th>\n",
       "      <th>TIME</th>\n",
       "      <th>OPEN</th>\n",
       "      <th>HIGH</th>\n",
       "      <th>LOW</th>\n",
       "      <th>CLOSE</th>\n",
       "      <th>WEEKDAY</th>\n",
       "      <th>DAYNAME</th>\n",
       "      <th>YEAR</th>\n",
       "      <th>MONTH</th>\n",
       "      <th>DATES</th>\n",
       "      <th>HOUR</th>\n",
       "      <th>MIN</th>\n",
       "    </tr>\n",
       "  </thead>\n",
       "  <tbody>\n",
       "    <tr>\n",
       "      <th>0</th>\n",
       "      <td>NIFTY</td>\n",
       "      <td>2021-01-01</td>\n",
       "      <td>09:16</td>\n",
       "      <td>13997.90</td>\n",
       "      <td>14020.85</td>\n",
       "      <td>13991.35</td>\n",
       "      <td>14013.15</td>\n",
       "      <td>4</td>\n",
       "      <td>Friday</td>\n",
       "      <td>2021</td>\n",
       "      <td>01</td>\n",
       "      <td>01</td>\n",
       "      <td>09</td>\n",
       "      <td>16</td>\n",
       "    </tr>\n",
       "    <tr>\n",
       "      <th>1</th>\n",
       "      <td>NIFTY</td>\n",
       "      <td>2021-01-01</td>\n",
       "      <td>09:17</td>\n",
       "      <td>14014.85</td>\n",
       "      <td>14018.55</td>\n",
       "      <td>14008.15</td>\n",
       "      <td>14009.05</td>\n",
       "      <td>4</td>\n",
       "      <td>Friday</td>\n",
       "      <td>2021</td>\n",
       "      <td>01</td>\n",
       "      <td>01</td>\n",
       "      <td>09</td>\n",
       "      <td>17</td>\n",
       "    </tr>\n",
       "    <tr>\n",
       "      <th>2</th>\n",
       "      <td>NIFTY</td>\n",
       "      <td>2021-01-01</td>\n",
       "      <td>09:18</td>\n",
       "      <td>14008.05</td>\n",
       "      <td>14013.10</td>\n",
       "      <td>14005.05</td>\n",
       "      <td>14012.70</td>\n",
       "      <td>4</td>\n",
       "      <td>Friday</td>\n",
       "      <td>2021</td>\n",
       "      <td>01</td>\n",
       "      <td>01</td>\n",
       "      <td>09</td>\n",
       "      <td>18</td>\n",
       "    </tr>\n",
       "    <tr>\n",
       "      <th>3</th>\n",
       "      <td>NIFTY</td>\n",
       "      <td>2021-01-01</td>\n",
       "      <td>09:19</td>\n",
       "      <td>14013.65</td>\n",
       "      <td>14019.10</td>\n",
       "      <td>14013.65</td>\n",
       "      <td>14016.20</td>\n",
       "      <td>4</td>\n",
       "      <td>Friday</td>\n",
       "      <td>2021</td>\n",
       "      <td>01</td>\n",
       "      <td>01</td>\n",
       "      <td>09</td>\n",
       "      <td>19</td>\n",
       "    </tr>\n",
       "    <tr>\n",
       "      <th>4</th>\n",
       "      <td>NIFTY</td>\n",
       "      <td>2021-01-01</td>\n",
       "      <td>09:20</td>\n",
       "      <td>14015.45</td>\n",
       "      <td>14017.80</td>\n",
       "      <td>14011.95</td>\n",
       "      <td>14015.45</td>\n",
       "      <td>4</td>\n",
       "      <td>Friday</td>\n",
       "      <td>2021</td>\n",
       "      <td>01</td>\n",
       "      <td>01</td>\n",
       "      <td>09</td>\n",
       "      <td>20</td>\n",
       "    </tr>\n",
       "  </tbody>\n",
       "</table>\n",
       "</div>"
      ],
      "text/plain": [
       "    TYPE       DATE   TIME      OPEN      HIGH       LOW     CLOSE  WEEKDAY  \\\n",
       "0  NIFTY 2021-01-01  09:16  13997.90  14020.85  13991.35  14013.15        4   \n",
       "1  NIFTY 2021-01-01  09:17  14014.85  14018.55  14008.15  14009.05        4   \n",
       "2  NIFTY 2021-01-01  09:18  14008.05  14013.10  14005.05  14012.70        4   \n",
       "3  NIFTY 2021-01-01  09:19  14013.65  14019.10  14013.65  14016.20        4   \n",
       "4  NIFTY 2021-01-01  09:20  14015.45  14017.80  14011.95  14015.45        4   \n",
       "\n",
       "  DAYNAME  YEAR MONTH DATES HOUR MIN  \n",
       "0  Friday  2021    01    01   09  16  \n",
       "1  Friday  2021    01    01   09  17  \n",
       "2  Friday  2021    01    01   09  18  \n",
       "3  Friday  2021    01    01   09  19  \n",
       "4  Friday  2021    01    01   09  20  "
      ]
     },
     "execution_count": 12,
     "metadata": {},
     "output_type": "execute_result"
    }
   ],
   "source": [
    "data.head()"
   ]
  },
  {
   "cell_type": "code",
   "execution_count": 13,
   "metadata": {},
   "outputs": [],
   "source": [
    "# data.drop(columns = [\"DATE\", \"TIME\"], inplace = True)"
   ]
  },
  {
   "cell_type": "code",
   "execution_count": 14,
   "metadata": {},
   "outputs": [],
   "source": [
    "data[\"WEEKDAY\"] = data[\"WEEKDAY\"].astype(\"int\")\n",
    "data[\"YEAR\"] = data[\"YEAR\"].astype(\"int\")\n",
    "data[\"MONTH\"] = data[\"MONTH\"].astype(\"int\")\n",
    "data[\"DATES\"] = data[\"DATES\"].astype(\"int\")\n",
    "data[\"HOUR\"] = data[\"HOUR\"].astype(\"int\")\n",
    "data[\"MIN\"] = data[\"MIN\"].astype(\"int\")"
   ]
  },
  {
   "cell_type": "code",
   "execution_count": 15,
   "metadata": {},
   "outputs": [
    {
     "name": "stdout",
     "output_type": "stream",
     "text": [
      "<class 'pandas.core.frame.DataFrame'>\n",
      "RangeIndex: 22805 entries, 0 to 22804\n",
      "Data columns (total 14 columns):\n",
      " #   Column   Non-Null Count  Dtype         \n",
      "---  ------   --------------  -----         \n",
      " 0   TYPE     22805 non-null  object        \n",
      " 1   DATE     22805 non-null  datetime64[ns]\n",
      " 2   TIME     22805 non-null  object        \n",
      " 3   OPEN     22805 non-null  float64       \n",
      " 4   HIGH     22805 non-null  float64       \n",
      " 5   LOW      22805 non-null  float64       \n",
      " 6   CLOSE    22805 non-null  float64       \n",
      " 7   WEEKDAY  22805 non-null  int32         \n",
      " 8   DAYNAME  22805 non-null  object        \n",
      " 9   YEAR     22805 non-null  int32         \n",
      " 10  MONTH    22805 non-null  int32         \n",
      " 11  DATES    22805 non-null  int32         \n",
      " 12  HOUR     22805 non-null  int32         \n",
      " 13  MIN      22805 non-null  int32         \n",
      "dtypes: datetime64[ns](1), float64(4), int32(6), object(3)\n",
      "memory usage: 1.9+ MB\n"
     ]
    }
   ],
   "source": [
    "data.info()"
   ]
  },
  {
   "cell_type": "code",
   "execution_count": 16,
   "metadata": {},
   "outputs": [
    {
     "data": {
      "text/html": [
       "<div>\n",
       "<style scoped>\n",
       "    .dataframe tbody tr th:only-of-type {\n",
       "        vertical-align: middle;\n",
       "    }\n",
       "\n",
       "    .dataframe tbody tr th {\n",
       "        vertical-align: top;\n",
       "    }\n",
       "\n",
       "    .dataframe thead th {\n",
       "        text-align: right;\n",
       "    }\n",
       "</style>\n",
       "<table border=\"1\" class=\"dataframe\">\n",
       "  <thead>\n",
       "    <tr style=\"text-align: right;\">\n",
       "      <th></th>\n",
       "      <th>TYPE</th>\n",
       "      <th>DATE</th>\n",
       "      <th>TIME</th>\n",
       "      <th>OPEN</th>\n",
       "      <th>HIGH</th>\n",
       "      <th>LOW</th>\n",
       "      <th>CLOSE</th>\n",
       "      <th>WEEKDAY</th>\n",
       "      <th>DAYNAME</th>\n",
       "      <th>YEAR</th>\n",
       "      <th>MONTH</th>\n",
       "      <th>DATES</th>\n",
       "      <th>HOUR</th>\n",
       "      <th>MIN</th>\n",
       "    </tr>\n",
       "  </thead>\n",
       "  <tbody>\n",
       "    <tr>\n",
       "      <th>0</th>\n",
       "      <td>NIFTY</td>\n",
       "      <td>2021-01-01</td>\n",
       "      <td>09:16</td>\n",
       "      <td>13997.90</td>\n",
       "      <td>14020.85</td>\n",
       "      <td>13991.35</td>\n",
       "      <td>14013.15</td>\n",
       "      <td>4</td>\n",
       "      <td>Friday</td>\n",
       "      <td>2021</td>\n",
       "      <td>1</td>\n",
       "      <td>1</td>\n",
       "      <td>9</td>\n",
       "      <td>16</td>\n",
       "    </tr>\n",
       "    <tr>\n",
       "      <th>1</th>\n",
       "      <td>NIFTY</td>\n",
       "      <td>2021-01-01</td>\n",
       "      <td>09:17</td>\n",
       "      <td>14014.85</td>\n",
       "      <td>14018.55</td>\n",
       "      <td>14008.15</td>\n",
       "      <td>14009.05</td>\n",
       "      <td>4</td>\n",
       "      <td>Friday</td>\n",
       "      <td>2021</td>\n",
       "      <td>1</td>\n",
       "      <td>1</td>\n",
       "      <td>9</td>\n",
       "      <td>17</td>\n",
       "    </tr>\n",
       "    <tr>\n",
       "      <th>2</th>\n",
       "      <td>NIFTY</td>\n",
       "      <td>2021-01-01</td>\n",
       "      <td>09:18</td>\n",
       "      <td>14008.05</td>\n",
       "      <td>14013.10</td>\n",
       "      <td>14005.05</td>\n",
       "      <td>14012.70</td>\n",
       "      <td>4</td>\n",
       "      <td>Friday</td>\n",
       "      <td>2021</td>\n",
       "      <td>1</td>\n",
       "      <td>1</td>\n",
       "      <td>9</td>\n",
       "      <td>18</td>\n",
       "    </tr>\n",
       "    <tr>\n",
       "      <th>3</th>\n",
       "      <td>NIFTY</td>\n",
       "      <td>2021-01-01</td>\n",
       "      <td>09:19</td>\n",
       "      <td>14013.65</td>\n",
       "      <td>14019.10</td>\n",
       "      <td>14013.65</td>\n",
       "      <td>14016.20</td>\n",
       "      <td>4</td>\n",
       "      <td>Friday</td>\n",
       "      <td>2021</td>\n",
       "      <td>1</td>\n",
       "      <td>1</td>\n",
       "      <td>9</td>\n",
       "      <td>19</td>\n",
       "    </tr>\n",
       "    <tr>\n",
       "      <th>4</th>\n",
       "      <td>NIFTY</td>\n",
       "      <td>2021-01-01</td>\n",
       "      <td>09:20</td>\n",
       "      <td>14015.45</td>\n",
       "      <td>14017.80</td>\n",
       "      <td>14011.95</td>\n",
       "      <td>14015.45</td>\n",
       "      <td>4</td>\n",
       "      <td>Friday</td>\n",
       "      <td>2021</td>\n",
       "      <td>1</td>\n",
       "      <td>1</td>\n",
       "      <td>9</td>\n",
       "      <td>20</td>\n",
       "    </tr>\n",
       "  </tbody>\n",
       "</table>\n",
       "</div>"
      ],
      "text/plain": [
       "    TYPE       DATE   TIME      OPEN      HIGH       LOW     CLOSE  WEEKDAY  \\\n",
       "0  NIFTY 2021-01-01  09:16  13997.90  14020.85  13991.35  14013.15        4   \n",
       "1  NIFTY 2021-01-01  09:17  14014.85  14018.55  14008.15  14009.05        4   \n",
       "2  NIFTY 2021-01-01  09:18  14008.05  14013.10  14005.05  14012.70        4   \n",
       "3  NIFTY 2021-01-01  09:19  14013.65  14019.10  14013.65  14016.20        4   \n",
       "4  NIFTY 2021-01-01  09:20  14015.45  14017.80  14011.95  14015.45        4   \n",
       "\n",
       "  DAYNAME  YEAR  MONTH  DATES  HOUR  MIN  \n",
       "0  Friday  2021      1      1     9   16  \n",
       "1  Friday  2021      1      1     9   17  \n",
       "2  Friday  2021      1      1     9   18  \n",
       "3  Friday  2021      1      1     9   19  \n",
       "4  Friday  2021      1      1     9   20  "
      ]
     },
     "execution_count": 16,
     "metadata": {},
     "output_type": "execute_result"
    }
   ],
   "source": [
    "data.head()"
   ]
  },
  {
   "cell_type": "code",
   "execution_count": 17,
   "metadata": {},
   "outputs": [
    {
     "data": {
      "text/plain": [
       "<AxesSubplot:>"
      ]
     },
     "execution_count": 17,
     "metadata": {},
     "output_type": "execute_result"
    },
    {
     "data": {
      "image/png": "[encoded data removed]",
      "text/plain": [
       "<Figure size 1728x720 with 3 Axes>"
      ]
     },
     "metadata": {
      "needs_background": "light"
     },
     "output_type": "display_data"
    }
   ],
   "source": [
    "import missingno as msno       #Checking for the missing entries\n",
    "msno.bar(data)"
   ]
  },
  {
   "cell_type": "code",
   "execution_count": 18,
   "metadata": {},
   "outputs": [
    {
     "data": {
      "text/html": [
       "<div>\n",
       "<style scoped>\n",
       "    .dataframe tbody tr th:only-of-type {\n",
       "        vertical-align: middle;\n",
       "    }\n",
       "\n",
       "    .dataframe tbody tr th {\n",
       "        vertical-align: top;\n",
       "    }\n",
       "\n",
       "    .dataframe thead th {\n",
       "        text-align: right;\n",
       "    }\n",
       "</style>\n",
       "<table border=\"1\" class=\"dataframe\">\n",
       "  <thead>\n",
       "    <tr style=\"text-align: right;\">\n",
       "      <th></th>\n",
       "      <th>OPEN</th>\n",
       "      <th>HIGH</th>\n",
       "      <th>LOW</th>\n",
       "      <th>CLOSE</th>\n",
       "      <th>WEEKDAY</th>\n",
       "      <th>YEAR</th>\n",
       "      <th>MONTH</th>\n",
       "      <th>DATES</th>\n",
       "      <th>HOUR</th>\n",
       "      <th>MIN</th>\n",
       "    </tr>\n",
       "  </thead>\n",
       "  <tbody>\n",
       "    <tr>\n",
       "      <th>count</th>\n",
       "      <td>22805.000000</td>\n",
       "      <td>22805.000000</td>\n",
       "      <td>22805.000000</td>\n",
       "      <td>22805.000000</td>\n",
       "      <td>22805.000000</td>\n",
       "      <td>22805.0</td>\n",
       "      <td>22805.000000</td>\n",
       "      <td>22805.000000</td>\n",
       "      <td>22805.000000</td>\n",
       "      <td>22805.00000</td>\n",
       "    </tr>\n",
       "    <tr>\n",
       "      <th>mean</th>\n",
       "      <td>14703.322396</td>\n",
       "      <td>14707.486481</td>\n",
       "      <td>14699.102201</td>\n",
       "      <td>14703.260816</td>\n",
       "      <td>2.016575</td>\n",
       "      <td>2021.0</td>\n",
       "      <td>2.016707</td>\n",
       "      <td>14.573339</td>\n",
       "      <td>11.911072</td>\n",
       "      <td>29.21298</td>\n",
       "    </tr>\n",
       "    <tr>\n",
       "      <th>std</th>\n",
       "      <td>391.377498</td>\n",
       "      <td>391.265231</td>\n",
       "      <td>391.551643</td>\n",
       "      <td>391.366248</td>\n",
       "      <td>1.427573</td>\n",
       "      <td>0.0</td>\n",
       "      <td>0.824087</td>\n",
       "      <td>8.543913</td>\n",
       "      <td>1.867000</td>\n",
       "      <td>17.01660</td>\n",
       "    </tr>\n",
       "    <tr>\n",
       "      <th>min</th>\n",
       "      <td>13604.750000</td>\n",
       "      <td>13614.400000</td>\n",
       "      <td>13596.750000</td>\n",
       "      <td>13602.800000</td>\n",
       "      <td>0.000000</td>\n",
       "      <td>2021.0</td>\n",
       "      <td>1.000000</td>\n",
       "      <td>1.000000</td>\n",
       "      <td>9.000000</td>\n",
       "      <td>0.00000</td>\n",
       "    </tr>\n",
       "    <tr>\n",
       "      <th>25%</th>\n",
       "      <td>14462.250000</td>\n",
       "      <td>14465.950000</td>\n",
       "      <td>14458.050000</td>\n",
       "      <td>14461.950000</td>\n",
       "      <td>1.000000</td>\n",
       "      <td>2021.0</td>\n",
       "      <td>1.000000</td>\n",
       "      <td>8.000000</td>\n",
       "      <td>10.000000</td>\n",
       "      <td>15.00000</td>\n",
       "    </tr>\n",
       "    <tr>\n",
       "      <th>50%</th>\n",
       "      <td>14739.500000</td>\n",
       "      <td>14743.000000</td>\n",
       "      <td>14735.850000</td>\n",
       "      <td>14739.450000</td>\n",
       "      <td>2.000000</td>\n",
       "      <td>2021.0</td>\n",
       "      <td>2.000000</td>\n",
       "      <td>15.000000</td>\n",
       "      <td>12.000000</td>\n",
       "      <td>29.00000</td>\n",
       "    </tr>\n",
       "    <tr>\n",
       "      <th>75%</th>\n",
       "      <td>15037.000000</td>\n",
       "      <td>15041.250000</td>\n",
       "      <td>15032.500000</td>\n",
       "      <td>15036.850000</td>\n",
       "      <td>3.000000</td>\n",
       "      <td>2021.0</td>\n",
       "      <td>3.000000</td>\n",
       "      <td>22.000000</td>\n",
       "      <td>13.000000</td>\n",
       "      <td>44.00000</td>\n",
       "    </tr>\n",
       "    <tr>\n",
       "      <th>max</th>\n",
       "      <td>15429.500000</td>\n",
       "      <td>15431.750000</td>\n",
       "      <td>15427.900000</td>\n",
       "      <td>15430.200000</td>\n",
       "      <td>4.000000</td>\n",
       "      <td>2021.0</td>\n",
       "      <td>3.000000</td>\n",
       "      <td>31.000000</td>\n",
       "      <td>17.000000</td>\n",
       "      <td>59.00000</td>\n",
       "    </tr>\n",
       "  </tbody>\n",
       "</table>\n",
       "</div>"
      ],
      "text/plain": [
       "               OPEN          HIGH           LOW         CLOSE       WEEKDAY  \\\n",
       "count  22805.000000  22805.000000  22805.000000  22805.000000  22805.000000   \n",
       "mean   14703.322396  14707.486481  14699.102201  14703.260816      2.016575   \n",
       "std      391.377498    391.265231    391.551643    391.366248      1.427573   \n",
       "min    13604.750000  13614.400000  13596.750000  13602.800000      0.000000   \n",
       "25%    14462.250000  14465.950000  14458.050000  14461.950000      1.000000   \n",
       "50%    14739.500000  14743.000000  14735.850000  14739.450000      2.000000   \n",
       "75%    15037.000000  15041.250000  15032.500000  15036.850000      3.000000   \n",
       "max    15429.500000  15431.750000  15427.900000  15430.200000      4.000000   \n",
       "\n",
       "          YEAR         MONTH         DATES          HOUR          MIN  \n",
       "count  22805.0  22805.000000  22805.000000  22805.000000  22805.00000  \n",
       "mean    2021.0      2.016707     14.573339     11.911072     29.21298  \n",
       "std        0.0      0.824087      8.543913      1.867000     17.01660  \n",
       "min     2021.0      1.000000      1.000000      9.000000      0.00000  \n",
       "25%     2021.0      1.000000      8.000000     10.000000     15.00000  \n",
       "50%     2021.0      2.000000     15.000000     12.000000     29.00000  \n",
       "75%     2021.0      3.000000     22.000000     13.000000     44.00000  \n",
       "max     2021.0      3.000000     31.000000     17.000000     59.00000  "
      ]
     },
     "execution_count": 18,
     "metadata": {},
     "output_type": "execute_result"
    }
   ],
   "source": [
    "data.describe()   #Statistics of the Dataset"
   ]
  },
  {
   "cell_type": "code",
   "execution_count": 19,
   "metadata": {},
   "outputs": [
    {
     "name": "stdout",
     "output_type": "stream",
     "text": [
      "<class 'pandas.core.frame.DataFrame'>\n",
      "RangeIndex: 22805 entries, 0 to 22804\n",
      "Data columns (total 14 columns):\n",
      " #   Column   Non-Null Count  Dtype         \n",
      "---  ------   --------------  -----         \n",
      " 0   TYPE     22805 non-null  object        \n",
      " 1   DATE     22805 non-null  datetime64[ns]\n",
      " 2   TIME     22805 non-null  object        \n",
      " 3   OPEN     22805 non-null  float64       \n",
      " 4   HIGH     22805 non-null  float64       \n",
      " 5   LOW      22805 non-null  float64       \n",
      " 6   CLOSE    22805 non-null  float64       \n",
      " 7   WEEKDAY  22805 non-null  int32         \n",
      " 8   DAYNAME  22805 non-null  object        \n",
      " 9   YEAR     22805 non-null  int32         \n",
      " 10  MONTH    22805 non-null  int32         \n",
      " 11  DATES    22805 non-null  int32         \n",
      " 12  HOUR     22805 non-null  int32         \n",
      " 13  MIN      22805 non-null  int32         \n",
      "dtypes: datetime64[ns](1), float64(4), int32(6), object(3)\n",
      "memory usage: 1.9+ MB\n"
     ]
    }
   ],
   "source": [
    "data.info()"
   ]
  },
  {
   "cell_type": "code",
   "execution_count": 20,
   "metadata": {},
   "outputs": [
    {
     "data": {
      "text/html": [
       "<div>\n",
       "<style scoped>\n",
       "    .dataframe tbody tr th:only-of-type {\n",
       "        vertical-align: middle;\n",
       "    }\n",
       "\n",
       "    .dataframe tbody tr th {\n",
       "        vertical-align: top;\n",
       "    }\n",
       "\n",
       "    .dataframe thead th {\n",
       "        text-align: right;\n",
       "    }\n",
       "</style>\n",
       "<table border=\"1\" class=\"dataframe\">\n",
       "  <thead>\n",
       "    <tr style=\"text-align: right;\">\n",
       "      <th></th>\n",
       "      <th>TYPE</th>\n",
       "      <th>DATE</th>\n",
       "      <th>TIME</th>\n",
       "      <th>OPEN</th>\n",
       "      <th>HIGH</th>\n",
       "      <th>LOW</th>\n",
       "      <th>CLOSE</th>\n",
       "      <th>WEEKDAY</th>\n",
       "      <th>DAYNAME</th>\n",
       "      <th>YEAR</th>\n",
       "      <th>MONTH</th>\n",
       "      <th>DATES</th>\n",
       "      <th>HOUR</th>\n",
       "      <th>MIN</th>\n",
       "    </tr>\n",
       "  </thead>\n",
       "  <tbody>\n",
       "  </tbody>\n",
       "</table>\n",
       "</div>"
      ],
      "text/plain": [
       "Empty DataFrame\n",
       "Columns: [TYPE, DATE, TIME, OPEN, HIGH, LOW, CLOSE, WEEKDAY, DAYNAME, YEAR, MONTH, DATES, HOUR, MIN]\n",
       "Index: []"
      ]
     },
     "execution_count": 20,
     "metadata": {},
     "output_type": "execute_result"
    }
   ],
   "source": [
    "data[data.duplicated()]       #Checking for the duplicated entries"
   ]
  },
  {
   "cell_type": "markdown",
   "metadata": {},
   "source": [
    "#### CONSIDERING ANOTHER DATASET"
   ]
  },
  {
   "cell_type": "code",
   "execution_count": 21,
   "metadata": {},
   "outputs": [
    {
     "data": {
      "text/html": [
       "<div>\n",
       "<style scoped>\n",
       "    .dataframe tbody tr th:only-of-type {\n",
       "        vertical-align: middle;\n",
       "    }\n",
       "\n",
       "    .dataframe tbody tr th {\n",
       "        vertical-align: top;\n",
       "    }\n",
       "\n",
       "    .dataframe thead th {\n",
       "        text-align: right;\n",
       "    }\n",
       "</style>\n",
       "<table border=\"1\" class=\"dataframe\">\n",
       "  <thead>\n",
       "    <tr style=\"text-align: right;\">\n",
       "      <th></th>\n",
       "      <th>Date</th>\n",
       "      <th>Open</th>\n",
       "      <th>High</th>\n",
       "      <th>Low</th>\n",
       "      <th>Close</th>\n",
       "      <th>Adj Close</th>\n",
       "      <th>Volume</th>\n",
       "    </tr>\n",
       "  </thead>\n",
       "  <tbody>\n",
       "    <tr>\n",
       "      <th>0</th>\n",
       "      <td>1986-03-13</td>\n",
       "      <td>0.088542</td>\n",
       "      <td>0.101563</td>\n",
       "      <td>0.088542</td>\n",
       "      <td>0.097222</td>\n",
       "      <td>0.061751</td>\n",
       "      <td>1031788800</td>\n",
       "    </tr>\n",
       "    <tr>\n",
       "      <th>1</th>\n",
       "      <td>1986-03-14</td>\n",
       "      <td>0.097222</td>\n",
       "      <td>0.102431</td>\n",
       "      <td>0.097222</td>\n",
       "      <td>0.100694</td>\n",
       "      <td>0.063956</td>\n",
       "      <td>308160000</td>\n",
       "    </tr>\n",
       "    <tr>\n",
       "      <th>2</th>\n",
       "      <td>1986-03-17</td>\n",
       "      <td>0.100694</td>\n",
       "      <td>0.103299</td>\n",
       "      <td>0.100694</td>\n",
       "      <td>0.102431</td>\n",
       "      <td>0.065059</td>\n",
       "      <td>133171200</td>\n",
       "    </tr>\n",
       "    <tr>\n",
       "      <th>3</th>\n",
       "      <td>1986-03-18</td>\n",
       "      <td>0.102431</td>\n",
       "      <td>0.103299</td>\n",
       "      <td>0.098958</td>\n",
       "      <td>0.099826</td>\n",
       "      <td>0.063405</td>\n",
       "      <td>67766400</td>\n",
       "    </tr>\n",
       "    <tr>\n",
       "      <th>4</th>\n",
       "      <td>1986-03-19</td>\n",
       "      <td>0.099826</td>\n",
       "      <td>0.100694</td>\n",
       "      <td>0.097222</td>\n",
       "      <td>0.098090</td>\n",
       "      <td>0.062302</td>\n",
       "      <td>47894400</td>\n",
       "    </tr>\n",
       "  </tbody>\n",
       "</table>\n",
       "</div>"
      ],
      "text/plain": [
       "         Date      Open      High       Low     Close  Adj Close      Volume\n",
       "0  1986-03-13  0.088542  0.101563  0.088542  0.097222   0.061751  1031788800\n",
       "1  1986-03-14  0.097222  0.102431  0.097222  0.100694   0.063956   308160000\n",
       "2  1986-03-17  0.100694  0.103299  0.100694  0.102431   0.065059   133171200\n",
       "3  1986-03-18  0.102431  0.103299  0.098958  0.099826   0.063405    67766400\n",
       "4  1986-03-19  0.099826  0.100694  0.097222  0.098090   0.062302    47894400"
      ]
     },
     "execution_count": 21,
     "metadata": {},
     "output_type": "execute_result"
    }
   ],
   "source": [
    "df2 = pd.read_csv('MSFT.csv')\n",
    "df2.head()"
   ]
  },
  {
   "cell_type": "code",
   "execution_count": 22,
   "metadata": {},
   "outputs": [
    {
     "data": {
      "text/html": [
       "<div>\n",
       "<style scoped>\n",
       "    .dataframe tbody tr th:only-of-type {\n",
       "        vertical-align: middle;\n",
       "    }\n",
       "\n",
       "    .dataframe tbody tr th {\n",
       "        vertical-align: top;\n",
       "    }\n",
       "\n",
       "    .dataframe thead th {\n",
       "        text-align: right;\n",
       "    }\n",
       "</style>\n",
       "<table border=\"1\" class=\"dataframe\">\n",
       "  <thead>\n",
       "    <tr style=\"text-align: right;\">\n",
       "      <th></th>\n",
       "      <th>Date</th>\n",
       "      <th>Open</th>\n",
       "      <th>High</th>\n",
       "      <th>Low</th>\n",
       "      <th>Close</th>\n",
       "      <th>Adj Close</th>\n",
       "      <th>Volume</th>\n",
       "    </tr>\n",
       "  </thead>\n",
       "  <tbody>\n",
       "  </tbody>\n",
       "</table>\n",
       "</div>"
      ],
      "text/plain": [
       "Empty DataFrame\n",
       "Columns: [Date, Open, High, Low, Close, Adj Close, Volume]\n",
       "Index: []"
      ]
     },
     "execution_count": 22,
     "metadata": {},
     "output_type": "execute_result"
    }
   ],
   "source": [
    "df2[df2.duplicated()]"
   ]
  },
  {
   "cell_type": "code",
   "execution_count": 23,
   "metadata": {},
   "outputs": [
    {
     "data": {
      "text/html": [
       "<div>\n",
       "<style scoped>\n",
       "    .dataframe tbody tr th:only-of-type {\n",
       "        vertical-align: middle;\n",
       "    }\n",
       "\n",
       "    .dataframe tbody tr th {\n",
       "        vertical-align: top;\n",
       "    }\n",
       "\n",
       "    .dataframe thead th {\n",
       "        text-align: right;\n",
       "    }\n",
       "</style>\n",
       "<table border=\"1\" class=\"dataframe\">\n",
       "  <thead>\n",
       "    <tr style=\"text-align: right;\">\n",
       "      <th></th>\n",
       "      <th>Open</th>\n",
       "      <th>High</th>\n",
       "      <th>Low</th>\n",
       "      <th>Close</th>\n",
       "      <th>Adj Close</th>\n",
       "      <th>Volume</th>\n",
       "    </tr>\n",
       "  </thead>\n",
       "  <tbody>\n",
       "    <tr>\n",
       "      <th>count</th>\n",
       "      <td>8857.000000</td>\n",
       "      <td>8857.000000</td>\n",
       "      <td>8857.000000</td>\n",
       "      <td>8857.000000</td>\n",
       "      <td>8857.000000</td>\n",
       "      <td>8.857000e+03</td>\n",
       "    </tr>\n",
       "    <tr>\n",
       "      <th>mean</th>\n",
       "      <td>34.831233</td>\n",
       "      <td>35.209355</td>\n",
       "      <td>34.449657</td>\n",
       "      <td>34.840895</td>\n",
       "      <td>29.886536</td>\n",
       "      <td>5.953411e+07</td>\n",
       "    </tr>\n",
       "    <tr>\n",
       "      <th>std</th>\n",
       "      <td>44.060163</td>\n",
       "      <td>44.513443</td>\n",
       "      <td>43.597704</td>\n",
       "      <td>44.080986</td>\n",
       "      <td>44.195101</td>\n",
       "      <td>3.858121e+07</td>\n",
       "    </tr>\n",
       "    <tr>\n",
       "      <th>min</th>\n",
       "      <td>0.088542</td>\n",
       "      <td>0.092014</td>\n",
       "      <td>0.088542</td>\n",
       "      <td>0.090278</td>\n",
       "      <td>0.057340</td>\n",
       "      <td>2.304000e+06</td>\n",
       "    </tr>\n",
       "    <tr>\n",
       "      <th>25%</th>\n",
       "      <td>3.843750</td>\n",
       "      <td>3.875000</td>\n",
       "      <td>3.812500</td>\n",
       "      <td>3.851563</td>\n",
       "      <td>2.446323</td>\n",
       "      <td>3.559720e+07</td>\n",
       "    </tr>\n",
       "    <tr>\n",
       "      <th>50%</th>\n",
       "      <td>26.590000</td>\n",
       "      <td>26.879999</td>\n",
       "      <td>26.290001</td>\n",
       "      <td>26.590000</td>\n",
       "      <td>18.686628</td>\n",
       "      <td>5.269680e+07</td>\n",
       "    </tr>\n",
       "    <tr>\n",
       "      <th>75%</th>\n",
       "      <td>36.730000</td>\n",
       "      <td>37.000000</td>\n",
       "      <td>36.110001</td>\n",
       "      <td>36.660000</td>\n",
       "      <td>27.218300</td>\n",
       "      <td>7.339520e+07</td>\n",
       "    </tr>\n",
       "    <tr>\n",
       "      <th>max</th>\n",
       "      <td>261.660004</td>\n",
       "      <td>263.190002</td>\n",
       "      <td>260.170013</td>\n",
       "      <td>261.970001</td>\n",
       "      <td>261.970001</td>\n",
       "      <td>1.031789e+09</td>\n",
       "    </tr>\n",
       "  </tbody>\n",
       "</table>\n",
       "</div>"
      ],
      "text/plain": [
       "              Open         High          Low        Close    Adj Close  \\\n",
       "count  8857.000000  8857.000000  8857.000000  8857.000000  8857.000000   \n",
       "mean     34.831233    35.209355    34.449657    34.840895    29.886536   \n",
       "std      44.060163    44.513443    43.597704    44.080986    44.195101   \n",
       "min       0.088542     0.092014     0.088542     0.090278     0.057340   \n",
       "25%       3.843750     3.875000     3.812500     3.851563     2.446323   \n",
       "50%      26.590000    26.879999    26.290001    26.590000    18.686628   \n",
       "75%      36.730000    37.000000    36.110001    36.660000    27.218300   \n",
       "max     261.660004   263.190002   260.170013   261.970001   261.970001   \n",
       "\n",
       "             Volume  \n",
       "count  8.857000e+03  \n",
       "mean   5.953411e+07  \n",
       "std    3.858121e+07  \n",
       "min    2.304000e+06  \n",
       "25%    3.559720e+07  \n",
       "50%    5.269680e+07  \n",
       "75%    7.339520e+07  \n",
       "max    1.031789e+09  "
      ]
     },
     "execution_count": 23,
     "metadata": {},
     "output_type": "execute_result"
    }
   ],
   "source": [
    "df2.describe()"
   ]
  },
  {
   "cell_type": "code",
   "execution_count": 24,
   "metadata": {},
   "outputs": [
    {
     "data": {
      "text/plain": [
       "Date         0\n",
       "Open         0\n",
       "High         0\n",
       "Low          0\n",
       "Close        0\n",
       "Adj Close    0\n",
       "Volume       0\n",
       "dtype: int64"
      ]
     },
     "execution_count": 24,
     "metadata": {},
     "output_type": "execute_result"
    }
   ],
   "source": [
    "df2.isna().sum()"
   ]
  },
  {
   "cell_type": "code",
   "execution_count": 25,
   "metadata": {},
   "outputs": [
    {
     "name": "stdout",
     "output_type": "stream",
     "text": [
      "<class 'pandas.core.frame.DataFrame'>\n",
      "RangeIndex: 8857 entries, 0 to 8856\n",
      "Data columns (total 7 columns):\n",
      " #   Column     Non-Null Count  Dtype  \n",
      "---  ------     --------------  -----  \n",
      " 0   Date       8857 non-null   object \n",
      " 1   Open       8857 non-null   float64\n",
      " 2   High       8857 non-null   float64\n",
      " 3   Low        8857 non-null   float64\n",
      " 4   Close      8857 non-null   float64\n",
      " 5   Adj Close  8857 non-null   float64\n",
      " 6   Volume     8857 non-null   int64  \n",
      "dtypes: float64(5), int64(1), object(1)\n",
      "memory usage: 484.5+ KB\n"
     ]
    }
   ],
   "source": [
    "df2.info()"
   ]
  },
  {
   "cell_type": "code",
   "execution_count": 26,
   "metadata": {},
   "outputs": [
    {
     "data": {
      "text/plain": [
       "Date        Open        High        Low         Close       Adj Close   Volume    \n",
       "2021-05-03  253.399994  254.350006  251.119995  251.860001  251.860001  19598900      1\n",
       "1997-11-07  16.257812   16.500000   16.234375   16.445312   10.445252   63628800      1\n",
       "1997-11-17  16.812500   16.976562   16.679688   16.859375   10.708243   60094400      1\n",
       "1997-11-14  16.453125   16.734375   16.421875   16.664062   10.584191   46663200      1\n",
       "1997-11-13  16.257812   16.453125   16.148438   16.445312   10.445252   60094400      1\n",
       "                                                                                     ..\n",
       "2009-08-17  23.320000   23.600000   23.230000   23.250000   17.886539   42474400      1\n",
       "2009-08-18  23.290001   23.650000   23.270000   23.580000   18.242413   38878900      1\n",
       "2009-08-19  23.250000   23.719999   23.250000   23.650000   18.296562   41821300      1\n",
       "2009-08-20  23.600000   23.870001   23.540001   23.670000   18.312037   39505900      1\n",
       "1986-03-13  0.088542    0.101563    0.088542    0.097222    0.061751    1031788800    1\n",
       "Length: 8857, dtype: int64"
      ]
     },
     "execution_count": 26,
     "metadata": {},
     "output_type": "execute_result"
    }
   ],
   "source": [
    "df2.value_counts()"
   ]
  },
  {
   "cell_type": "code",
   "execution_count": 27,
   "metadata": {},
   "outputs": [],
   "source": [
    "#Creating columns like Weekday/Weekname\n",
    "df2[\"Weekday\"]=pd.to_datetime(df2[\"Date\"].astype(\"str\")).dt.weekday\n",
    "df2[\"Dayname\"]=pd.to_datetime(df2[\"Date\"].astype(\"str\")).dt.day_name()\n",
    "year=[]\n",
    "month=[]\n",
    "date = []\n",
    "for i in df2['Date'].astype(\"str\"):\n",
    "    k=i.strip()\n",
    "    year.append(k.split(\"-\")[0])\n",
    "    month.append(k.split(\"-\")[1])\n",
    "    date.append(k.split(\"-\")[2])\n",
    "\n",
    "df2[\"Year\"] = year\n",
    "df2[\"Month\"] = month\n",
    "df2[\"Dates\"] = date"
   ]
  },
  {
   "cell_type": "code",
   "execution_count": 28,
   "metadata": {},
   "outputs": [
    {
     "data": {
      "text/html": [
       "<div>\n",
       "<style scoped>\n",
       "    .dataframe tbody tr th:only-of-type {\n",
       "        vertical-align: middle;\n",
       "    }\n",
       "\n",
       "    .dataframe tbody tr th {\n",
       "        vertical-align: top;\n",
       "    }\n",
       "\n",
       "    .dataframe thead th {\n",
       "        text-align: right;\n",
       "    }\n",
       "</style>\n",
       "<table border=\"1\" class=\"dataframe\">\n",
       "  <thead>\n",
       "    <tr style=\"text-align: right;\">\n",
       "      <th></th>\n",
       "      <th>Date</th>\n",
       "      <th>Open</th>\n",
       "      <th>High</th>\n",
       "      <th>Low</th>\n",
       "      <th>Close</th>\n",
       "      <th>Adj Close</th>\n",
       "      <th>Volume</th>\n",
       "      <th>Weekday</th>\n",
       "      <th>Dayname</th>\n",
       "      <th>Year</th>\n",
       "      <th>Month</th>\n",
       "      <th>Dates</th>\n",
       "    </tr>\n",
       "  </thead>\n",
       "  <tbody>\n",
       "    <tr>\n",
       "      <th>0</th>\n",
       "      <td>1986-03-13</td>\n",
       "      <td>0.088542</td>\n",
       "      <td>0.101563</td>\n",
       "      <td>0.088542</td>\n",
       "      <td>0.097222</td>\n",
       "      <td>0.061751</td>\n",
       "      <td>1031788800</td>\n",
       "      <td>3</td>\n",
       "      <td>Thursday</td>\n",
       "      <td>1986</td>\n",
       "      <td>03</td>\n",
       "      <td>13</td>\n",
       "    </tr>\n",
       "    <tr>\n",
       "      <th>1</th>\n",
       "      <td>1986-03-14</td>\n",
       "      <td>0.097222</td>\n",
       "      <td>0.102431</td>\n",
       "      <td>0.097222</td>\n",
       "      <td>0.100694</td>\n",
       "      <td>0.063956</td>\n",
       "      <td>308160000</td>\n",
       "      <td>4</td>\n",
       "      <td>Friday</td>\n",
       "      <td>1986</td>\n",
       "      <td>03</td>\n",
       "      <td>14</td>\n",
       "    </tr>\n",
       "    <tr>\n",
       "      <th>2</th>\n",
       "      <td>1986-03-17</td>\n",
       "      <td>0.100694</td>\n",
       "      <td>0.103299</td>\n",
       "      <td>0.100694</td>\n",
       "      <td>0.102431</td>\n",
       "      <td>0.065059</td>\n",
       "      <td>133171200</td>\n",
       "      <td>0</td>\n",
       "      <td>Monday</td>\n",
       "      <td>1986</td>\n",
       "      <td>03</td>\n",
       "      <td>17</td>\n",
       "    </tr>\n",
       "    <tr>\n",
       "      <th>3</th>\n",
       "      <td>1986-03-18</td>\n",
       "      <td>0.102431</td>\n",
       "      <td>0.103299</td>\n",
       "      <td>0.098958</td>\n",
       "      <td>0.099826</td>\n",
       "      <td>0.063405</td>\n",
       "      <td>67766400</td>\n",
       "      <td>1</td>\n",
       "      <td>Tuesday</td>\n",
       "      <td>1986</td>\n",
       "      <td>03</td>\n",
       "      <td>18</td>\n",
       "    </tr>\n",
       "    <tr>\n",
       "      <th>4</th>\n",
       "      <td>1986-03-19</td>\n",
       "      <td>0.099826</td>\n",
       "      <td>0.100694</td>\n",
       "      <td>0.097222</td>\n",
       "      <td>0.098090</td>\n",
       "      <td>0.062302</td>\n",
       "      <td>47894400</td>\n",
       "      <td>2</td>\n",
       "      <td>Wednesday</td>\n",
       "      <td>1986</td>\n",
       "      <td>03</td>\n",
       "      <td>19</td>\n",
       "    </tr>\n",
       "  </tbody>\n",
       "</table>\n",
       "</div>"
      ],
      "text/plain": [
       "         Date      Open      High       Low     Close  Adj Close      Volume  \\\n",
       "0  1986-03-13  0.088542  0.101563  0.088542  0.097222   0.061751  1031788800   \n",
       "1  1986-03-14  0.097222  0.102431  0.097222  0.100694   0.063956   308160000   \n",
       "2  1986-03-17  0.100694  0.103299  0.100694  0.102431   0.065059   133171200   \n",
       "3  1986-03-18  0.102431  0.103299  0.098958  0.099826   0.063405    67766400   \n",
       "4  1986-03-19  0.099826  0.100694  0.097222  0.098090   0.062302    47894400   \n",
       "\n",
       "   Weekday    Dayname  Year Month Dates  \n",
       "0        3   Thursday  1986    03    13  \n",
       "1        4     Friday  1986    03    14  \n",
       "2        0     Monday  1986    03    17  \n",
       "3        1    Tuesday  1986    03    18  \n",
       "4        2  Wednesday  1986    03    19  "
      ]
     },
     "execution_count": 28,
     "metadata": {},
     "output_type": "execute_result"
    }
   ],
   "source": [
    "df2.head()"
   ]
  },
  {
   "cell_type": "code",
   "execution_count": 29,
   "metadata": {},
   "outputs": [],
   "source": [
    "# df2.drop(columns = [\"Date\"], inplace = True)"
   ]
  },
  {
   "cell_type": "code",
   "execution_count": 30,
   "metadata": {},
   "outputs": [
    {
     "name": "stdout",
     "output_type": "stream",
     "text": [
      "<class 'pandas.core.frame.DataFrame'>\n",
      "RangeIndex: 8857 entries, 0 to 8856\n",
      "Data columns (total 12 columns):\n",
      " #   Column     Non-Null Count  Dtype  \n",
      "---  ------     --------------  -----  \n",
      " 0   Date       8857 non-null   object \n",
      " 1   Open       8857 non-null   float64\n",
      " 2   High       8857 non-null   float64\n",
      " 3   Low        8857 non-null   float64\n",
      " 4   Close      8857 non-null   float64\n",
      " 5   Adj Close  8857 non-null   float64\n",
      " 6   Volume     8857 non-null   int64  \n",
      " 7   Weekday    8857 non-null   int64  \n",
      " 8   Dayname    8857 non-null   object \n",
      " 9   Year       8857 non-null   object \n",
      " 10  Month      8857 non-null   object \n",
      " 11  Dates      8857 non-null   object \n",
      "dtypes: float64(5), int64(2), object(5)\n",
      "memory usage: 830.5+ KB\n"
     ]
    }
   ],
   "source": [
    "df2.info()"
   ]
  },
  {
   "cell_type": "markdown",
   "metadata": {},
   "source": [
    "## EDA PART of DATAFRAME"
   ]
  },
  {
   "cell_type": "code",
   "execution_count": 31,
   "metadata": {},
   "outputs": [],
   "source": [
    "import seaborn as sns\n",
    "import matplotlib.pyplot as plt\n",
    "plt.style.use('dark_background')\n"
   ]
  },
  {
   "cell_type": "code",
   "execution_count": 32,
   "metadata": {},
   "outputs": [
    {
     "name": "stderr",
     "output_type": "stream",
     "text": [
      "C:\\Users\\Dell\\anaconda3\\lib\\site-packages\\seaborn\\axisgrid.py:1912: UserWarning: The `size` parameter has been renamed to `height`; please update your code.\n",
      "  warnings.warn(msg, UserWarning)\n"
     ]
    },
    {
     "data": {
      "text/plain": [
       "<Figure size 720x360 with 0 Axes>"
      ]
     },
     "metadata": {},
     "output_type": "display_data"
    },
    {
     "data": {
      "image/png": "[encoded data removed]",
      "text/plain": [
       "<Figure size 777.6x288 with 3 Axes>"
      ]
     },
     "metadata": {},
     "output_type": "display_data"
    }
   ],
   "source": [
    "#Finding Correlation between columns\n",
    "\n",
    "plt.figure(figsize = (10, 5))\n",
    "sns.pairplot(data, x_vars=['OPEN','HIGH','LOW'], y_vars=[\"CLOSE\"], aspect=0.9, size=4, diag_kind=None)\n",
    "\n",
    "plt.show()"
   ]
  },
  {
   "cell_type": "code",
   "execution_count": 33,
   "metadata": {
    "scrolled": true
   },
   "outputs": [
    {
     "data": {
      "image/png": "[encoded data removed]",
      "text/plain": [
       "<Figure size 1440x864 with 4 Axes>"
      ]
     },
     "metadata": {},
     "output_type": "display_data"
    }
   ],
   "source": [
    "figure, axis = plt.subplots(2, 2,figsize=(20,12))\n",
    "    \n",
    "# For Opening Price\n",
    "axis[0, 0].plot(data['OPEN'],color='b')\n",
    "axis[0, 0].set_title(\"Opening Price\")\n",
    "  \n",
    "# For Closing Price\n",
    "axis[0, 1].plot(data['HIGH'],color='orange')\n",
    "axis[0, 1].set_title(\"HIGH\")\n",
    "  \n",
    "# For High\n",
    "axis[1, 0].plot(data['CLOSE'],color='r')\n",
    "axis[1, 0].set_title(\"HIGH\")\n",
    "  \n",
    "# For Low\n",
    "axis[1, 1].plot(data['LOW'],color='g')\n",
    "axis[1, 1].set_title(\"LOW\")\n",
    "  \n",
    "# Combine all the operations and display\n",
    "plt.show()"
   ]
  },
  {
   "cell_type": "code",
   "execution_count": 34,
   "metadata": {},
   "outputs": [
    {
     "data": {
      "image/png": "[encoded data removed]",
      "text/plain": [
       "<Figure size 1440x288 with 1 Axes>"
      ]
     },
     "metadata": {},
     "output_type": "display_data"
    }
   ],
   "source": [
    "#Visually show the the stock price\n",
    "\n",
    "plt.figure(figsize=(20,4))\n",
    "sns.lineplot(x = data[\"DATE\"], y = data[\"CLOSE\"], data = data)\n",
    "plt.title(\"Close Price History\")\n",
    "plt.xlabel(\"DATE\")\n",
    "plt.xticks(rotation=45)\n",
    "plt.ylabel(\"Price in RS \")\n",
    "plt.show()"
   ]
  },
  {
   "cell_type": "markdown",
   "metadata": {},
   "source": [
    "## EDA PART OF MSFT"
   ]
  },
  {
   "cell_type": "code",
   "execution_count": 35,
   "metadata": {},
   "outputs": [
    {
     "name": "stderr",
     "output_type": "stream",
     "text": [
      "C:\\Users\\Dell\\anaconda3\\lib\\site-packages\\seaborn\\axisgrid.py:1912: UserWarning: The `size` parameter has been renamed to `height`; please update your code.\n",
      "  warnings.warn(msg, UserWarning)\n"
     ]
    },
    {
     "data": {
      "text/plain": [
       "<Figure size 720x360 with 0 Axes>"
      ]
     },
     "metadata": {},
     "output_type": "display_data"
    },
    {
     "data": {
      "image/png": "[encoded data removed]",
      "text/plain": [
       "<Figure size 777.6x288 with 3 Axes>"
      ]
     },
     "metadata": {},
     "output_type": "display_data"
    }
   ],
   "source": [
    "plt.figure(figsize = (10, 5))\n",
    "sns.pairplot(df2, x_vars=['Open','High','Low'], y_vars=[\"Close\"], aspect=0.9, size=4, diag_kind=None)\n",
    "\n",
    "plt.show()"
   ]
  },
  {
   "cell_type": "code",
   "execution_count": 36,
   "metadata": {},
   "outputs": [
    {
     "data": {
      "image/png": "[encoded data removed]",
      "text/plain": [
       "<Figure size 1440x864 with 4 Axes>"
      ]
     },
     "metadata": {},
     "output_type": "display_data"
    }
   ],
   "source": [
    "figure, axis = plt.subplots(2, 2,figsize=(20,12))\n",
    "    \n",
    "# For Opening Price\n",
    "axis[0, 0].plot(df2['Open'],color='b')\n",
    "axis[0, 0].set_title(\"Opening Price\")\n",
    "  \n",
    "# For Closing Price\n",
    "axis[0, 1].plot(df2['High'],color='orange')\n",
    "axis[0, 1].set_title(\"HIGH\")\n",
    "  \n",
    "# For High\n",
    "axis[1, 0].plot(df2['Close'],color='r')\n",
    "axis[1, 0].set_title(\"HIGH\")\n",
    "  \n",
    "# For Low\n",
    "axis[1, 1].plot(df2['Low'],color='g')\n",
    "axis[1, 1].set_title(\"LOW\")\n",
    "  \n",
    "# Combine all the operations and display\n",
    "plt.show()"
   ]
  },
  {
   "cell_type": "code",
   "execution_count": null,
   "metadata": {},
   "outputs": [],
   "source": []
  },
  {
   "cell_type": "code",
   "execution_count": null,
   "metadata": {},
   "outputs": [],
   "source": []
  }
 ],
 "metadata": {
  "kernelspec": {
   "display_name": "Python 3",
   "language": "python",
   "name": "python3"
  },
  "language_info": {
   "codemirror_mode": {
    "name": "ipython",
    "version": 3
   },
   "file_extension": ".py",
   "mimetype": "text/x-python",
   "name": "python",
   "nbconvert_exporter": "python",
   "pygments_lexer": "ipython3",
   "version": "3.8.5"
  }
 },
 "nbformat": 4,
 "nbformat_minor": 4
}
